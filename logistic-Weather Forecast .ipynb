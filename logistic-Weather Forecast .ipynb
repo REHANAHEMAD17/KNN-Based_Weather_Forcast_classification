{
 "cells": [
  {
   "cell_type": "code",
   "execution_count": 1,
   "id": "318b29e1-78ec-4734-8d94-df10e4a600aa",
   "metadata": {},
   "outputs": [],
   "source": [
    "import numpy as np\n",
    "import pandas as pd\n",
    "import seaborn as sns\n",
    "\n",
    "from sklearn.model_selection import train_test_split\n",
    "from sklearn.linear_model import LogisticRegression, Lasso, Ridge\n",
    "from sklearn.metrics import confusion_matrix, classification_report, accuracy_score\n",
    "\n",
    "from sklearn.metrics import roc_curve, roc_auc_score\n",
    "import matplotlib.pyplot as plt\n",
    "import seaborn as sns\n",
    "\n",
    "\n",
    "import pickle\n",
    "import json\n",
    "\n",
    "\n",
    "import warnings\n",
    "warnings.filterwarnings('ignore')\n",
    "\n",
    "\n"
   ]
  },
  {
   "cell_type": "markdown",
   "id": "7af3e671-2b85-4f8e-a70a-3cad2a7e8ca3",
   "metadata": {},
   "source": [
    "### 1. Problem Statement\n",
    "\n",
    "                        To predict classify rain will be happend or not in city"
   ]
  },
  {
   "cell_type": "markdown",
   "id": "0bfd095f-447d-44ae-87e5-4305ebaea314",
   "metadata": {},
   "source": [
    "## 2. Data Gatering"
   ]
  },
  {
   "cell_type": "code",
   "execution_count": 2,
   "id": "b9572537-5d95-4664-9c11-f88377030d8a",
   "metadata": {},
   "outputs": [
    {
     "data": {
      "text/html": [
       "<div>\n",
       "<style scoped>\n",
       "    .dataframe tbody tr th:only-of-type {\n",
       "        vertical-align: middle;\n",
       "    }\n",
       "\n",
       "    .dataframe tbody tr th {\n",
       "        vertical-align: top;\n",
       "    }\n",
       "\n",
       "    .dataframe thead th {\n",
       "        text-align: right;\n",
       "    }\n",
       "</style>\n",
       "<table border=\"1\" class=\"dataframe\">\n",
       "  <thead>\n",
       "    <tr style=\"text-align: right;\">\n",
       "      <th></th>\n",
       "      <th>Temperature</th>\n",
       "      <th>Humidity</th>\n",
       "      <th>Wind_Speed</th>\n",
       "      <th>Cloud_Cover</th>\n",
       "      <th>Pressure</th>\n",
       "      <th>Rain</th>\n",
       "    </tr>\n",
       "  </thead>\n",
       "  <tbody>\n",
       "    <tr>\n",
       "      <th>0</th>\n",
       "      <td>23.720338</td>\n",
       "      <td>89.592641</td>\n",
       "      <td>7.335604</td>\n",
       "      <td>50.501694</td>\n",
       "      <td>1032.378759</td>\n",
       "      <td>rain</td>\n",
       "    </tr>\n",
       "    <tr>\n",
       "      <th>1</th>\n",
       "      <td>27.879734</td>\n",
       "      <td>46.489704</td>\n",
       "      <td>5.952484</td>\n",
       "      <td>4.990053</td>\n",
       "      <td>992.614189</td>\n",
       "      <td>no rain</td>\n",
       "    </tr>\n",
       "    <tr>\n",
       "      <th>2</th>\n",
       "      <td>25.069084</td>\n",
       "      <td>83.072843</td>\n",
       "      <td>1.371992</td>\n",
       "      <td>14.855784</td>\n",
       "      <td>1007.231620</td>\n",
       "      <td>no rain</td>\n",
       "    </tr>\n",
       "    <tr>\n",
       "      <th>3</th>\n",
       "      <td>23.622080</td>\n",
       "      <td>74.367758</td>\n",
       "      <td>7.050551</td>\n",
       "      <td>67.255282</td>\n",
       "      <td>982.632013</td>\n",
       "      <td>rain</td>\n",
       "    </tr>\n",
       "    <tr>\n",
       "      <th>4</th>\n",
       "      <td>20.591370</td>\n",
       "      <td>96.858822</td>\n",
       "      <td>4.643921</td>\n",
       "      <td>47.676444</td>\n",
       "      <td>980.825142</td>\n",
       "      <td>no rain</td>\n",
       "    </tr>\n",
       "    <tr>\n",
       "      <th>...</th>\n",
       "      <td>...</td>\n",
       "      <td>...</td>\n",
       "      <td>...</td>\n",
       "      <td>...</td>\n",
       "      <td>...</td>\n",
       "      <td>...</td>\n",
       "    </tr>\n",
       "    <tr>\n",
       "      <th>2495</th>\n",
       "      <td>21.791602</td>\n",
       "      <td>45.270902</td>\n",
       "      <td>11.807192</td>\n",
       "      <td>55.044682</td>\n",
       "      <td>1017.686181</td>\n",
       "      <td>no rain</td>\n",
       "    </tr>\n",
       "    <tr>\n",
       "      <th>2496</th>\n",
       "      <td>27.558479</td>\n",
       "      <td>46.481744</td>\n",
       "      <td>10.884915</td>\n",
       "      <td>39.715133</td>\n",
       "      <td>1008.590961</td>\n",
       "      <td>no rain</td>\n",
       "    </tr>\n",
       "    <tr>\n",
       "      <th>2497</th>\n",
       "      <td>28.108274</td>\n",
       "      <td>43.817178</td>\n",
       "      <td>2.897128</td>\n",
       "      <td>75.842952</td>\n",
       "      <td>999.119187</td>\n",
       "      <td>no rain</td>\n",
       "    </tr>\n",
       "    <tr>\n",
       "      <th>2498</th>\n",
       "      <td>14.789275</td>\n",
       "      <td>57.908105</td>\n",
       "      <td>2.374717</td>\n",
       "      <td>2.378743</td>\n",
       "      <td>1046.501875</td>\n",
       "      <td>no rain</td>\n",
       "    </tr>\n",
       "    <tr>\n",
       "      <th>2499</th>\n",
       "      <td>26.554356</td>\n",
       "      <td>97.101517</td>\n",
       "      <td>18.563084</td>\n",
       "      <td>81.357508</td>\n",
       "      <td>1001.729176</td>\n",
       "      <td>no rain</td>\n",
       "    </tr>\n",
       "  </tbody>\n",
       "</table>\n",
       "<p>2500 rows × 6 columns</p>\n",
       "</div>"
      ],
      "text/plain": [
       "      Temperature   Humidity  Wind_Speed  Cloud_Cover     Pressure     Rain\n",
       "0       23.720338  89.592641    7.335604    50.501694  1032.378759     rain\n",
       "1       27.879734  46.489704    5.952484     4.990053   992.614189  no rain\n",
       "2       25.069084  83.072843    1.371992    14.855784  1007.231620  no rain\n",
       "3       23.622080  74.367758    7.050551    67.255282   982.632013     rain\n",
       "4       20.591370  96.858822    4.643921    47.676444   980.825142  no rain\n",
       "...           ...        ...         ...          ...          ...      ...\n",
       "2495    21.791602  45.270902   11.807192    55.044682  1017.686181  no rain\n",
       "2496    27.558479  46.481744   10.884915    39.715133  1008.590961  no rain\n",
       "2497    28.108274  43.817178    2.897128    75.842952   999.119187  no rain\n",
       "2498    14.789275  57.908105    2.374717     2.378743  1046.501875  no rain\n",
       "2499    26.554356  97.101517   18.563084    81.357508  1001.729176  no rain\n",
       "\n",
       "[2500 rows x 6 columns]"
      ]
     },
     "execution_count": 2,
     "metadata": {},
     "output_type": "execute_result"
    }
   ],
   "source": [
    "df=pd.read_csv('Weather_and _Forcast.csv')\n",
    "df"
   ]
  },
  {
   "cell_type": "code",
   "execution_count": 3,
   "id": "e907697e-d3c8-44a3-8117-c29f40a910e4",
   "metadata": {},
   "outputs": [
    {
     "name": "stdout",
     "output_type": "stream",
     "text": [
      "Temperature    0\n",
      "Humidity       0\n",
      "Wind_Speed     0\n",
      "Cloud_Cover    0\n",
      "Pressure       0\n",
      "Rain           0\n",
      "dtype: int64\n"
     ]
    }
   ],
   "source": [
    "print(df.isna().sum())\n"
   ]
  },
  {
   "cell_type": "code",
   "execution_count": 4,
   "id": "4c6510ba-936e-4d59-9a35-95cdc58f78fe",
   "metadata": {},
   "outputs": [],
   "source": [
    "#1\n",
    "df=df.fillna(0)    # fro replace NaN values with the most frequent values(mode) for catogorical data."
   ]
  },
  {
   "cell_type": "code",
   "execution_count": 5,
   "id": "ebd1cd13-a3e5-4f79-948d-5d32a307204a",
   "metadata": {},
   "outputs": [
    {
     "data": {
      "text/plain": [
       "<function matplotlib.pyplot.show(close=None, block=None)>"
      ]
     },
     "execution_count": 5,
     "metadata": {},
     "output_type": "execute_result"
    },
    {
     "data": {
      "image/png": "[encoded data removed]",
      "text/plain": [
       "<Figure size 640x480 with 1 Axes>"
      ]
     },
     "metadata": {},
     "output_type": "display_data"
    }
   ],
   "source": [
    "# 3 heatmap\n",
    "sns.heatmap(df.isna(), cbar=False, cmap='viridis')\n",
    "plt.show     "
   ]
  },
  {
   "cell_type": "markdown",
   "id": "92c4e361-121b-49f7-a474-c8795f40f14b",
   "metadata": {},
   "source": [
    "### 3. EDA and Feature Engineering"
   ]
  },
  {
   "cell_type": "code",
   "execution_count": 6,
   "id": "f4aa2af8-ba1f-4a27-91c3-ad2aef1fe88d",
   "metadata": {},
   "outputs": [
    {
     "name": "stdout",
     "output_type": "stream",
     "text": [
      "<class 'pandas.core.frame.DataFrame'>\n",
      "RangeIndex: 2500 entries, 0 to 2499\n",
      "Data columns (total 6 columns):\n",
      " #   Column       Non-Null Count  Dtype  \n",
      "---  ------       --------------  -----  \n",
      " 0   Temperature  2500 non-null   float64\n",
      " 1   Humidity     2500 non-null   float64\n",
      " 2   Wind_Speed   2500 non-null   float64\n",
      " 3   Cloud_Cover  2500 non-null   float64\n",
      " 4   Pressure     2500 non-null   float64\n",
      " 5   Rain         2500 non-null   object \n",
      "dtypes: float64(5), object(1)\n",
      "memory usage: 117.3+ KB\n"
     ]
    }
   ],
   "source": [
    "df.info()"
   ]
  },
  {
   "cell_type": "code",
   "execution_count": 7,
   "id": "8bbbc6f0-bc74-4085-82f4-e8f4f582f5ad",
   "metadata": {},
   "outputs": [
    {
     "data": {
      "text/plain": [
       "Index(['Temperature', 'Humidity', 'Wind_Speed', 'Cloud_Cover', 'Pressure',\n",
       "       'Rain'],\n",
       "      dtype='object')"
      ]
     },
     "execution_count": 7,
     "metadata": {},
     "output_type": "execute_result"
    }
   ],
   "source": [
    "df.columns"
   ]
  },
  {
   "cell_type": "code",
   "execution_count": 8,
   "id": "9f38299b-3d63-4a18-8280-424e847bead4",
   "metadata": {},
   "outputs": [
    {
     "data": {
      "text/plain": [
       "(2500, 6)"
      ]
     },
     "execution_count": 8,
     "metadata": {},
     "output_type": "execute_result"
    }
   ],
   "source": [
    "df.shape"
   ]
  },
  {
   "cell_type": "markdown",
   "id": "49cfb255-d9f9-4ed1-b493-fa344be8e4c7",
   "metadata": {},
   "source": [
    "### 1.1 Rain"
   ]
  },
  {
   "cell_type": "code",
   "execution_count": 9,
   "id": "a022ede3-a8e2-4b16-8247-271f686d5318",
   "metadata": {},
   "outputs": [
    {
     "data": {
      "text/plain": [
       "Rain\n",
       "no rain    2186\n",
       "rain        314\n",
       "Name: count, dtype: int64"
      ]
     },
     "execution_count": 9,
     "metadata": {},
     "output_type": "execute_result"
    }
   ],
   "source": [
    "df['Rain'].value_counts()"
   ]
  },
  {
   "cell_type": "code",
   "execution_count": 10,
   "id": "7cf1948d-40ee-430c-b14c-78b691a214c3",
   "metadata": {},
   "outputs": [
    {
     "name": "stdout",
     "output_type": "stream",
     "text": [
      "<class 'pandas.core.series.Series'>\n",
      "RangeIndex: 2500 entries, 0 to 2499\n",
      "Series name: Rain\n",
      "Non-Null Count  Dtype \n",
      "--------------  ----- \n",
      "2500 non-null   object\n",
      "dtypes: object(1)\n",
      "memory usage: 19.7+ KB\n"
     ]
    }
   ],
   "source": [
    "df['Rain'].info()"
   ]
  },
  {
   "cell_type": "code",
   "execution_count": 11,
   "id": "86a19559-fa1a-49cc-871f-e77984809ae5",
   "metadata": {},
   "outputs": [
    {
     "data": {
      "text/plain": [
       "0       1\n",
       "1       0\n",
       "2       0\n",
       "3       1\n",
       "4       0\n",
       "       ..\n",
       "2495    0\n",
       "2496    0\n",
       "2497    0\n",
       "2498    0\n",
       "2499    0\n",
       "Name: Rain, Length: 2500, dtype: int64"
      ]
     },
     "execution_count": 11,
     "metadata": {},
     "output_type": "execute_result"
    }
   ],
   "source": [
    "df['Rain'].replace({'no rain': 0, 'rain':1}, inplace=True)\n",
    "df['Rain']"
   ]
  },
  {
   "cell_type": "code",
   "execution_count": 12,
   "id": "4ddc2408-46bf-44cc-8d4f-205219ed0525",
   "metadata": {},
   "outputs": [
    {
     "name": "stdout",
     "output_type": "stream",
     "text": [
      "<class 'pandas.core.frame.DataFrame'>\n",
      "RangeIndex: 2500 entries, 0 to 2499\n",
      "Data columns (total 6 columns):\n",
      " #   Column       Non-Null Count  Dtype  \n",
      "---  ------       --------------  -----  \n",
      " 0   Temperature  2500 non-null   float64\n",
      " 1   Humidity     2500 non-null   float64\n",
      " 2   Wind_Speed   2500 non-null   float64\n",
      " 3   Cloud_Cover  2500 non-null   float64\n",
      " 4   Pressure     2500 non-null   float64\n",
      " 5   Rain         2500 non-null   int64  \n",
      "dtypes: float64(5), int64(1)\n",
      "memory usage: 117.3 KB\n"
     ]
    }
   ],
   "source": [
    "df.info()"
   ]
  },
  {
   "cell_type": "markdown",
   "id": "7768deca-5151-43f5-84b0-9b6c0a6f4084",
   "metadata": {},
   "source": [
    "### Model Training"
   ]
  },
  {
   "cell_type": "code",
   "execution_count": 13,
   "id": "b772dfc5-8e94-490c-b917-90345fb1ec6c",
   "metadata": {},
   "outputs": [],
   "source": [
    "x=df.drop('Rain', axis=1)\n",
    "y=df['Rain']"
   ]
  },
  {
   "cell_type": "code",
   "execution_count": 14,
   "id": "c1989982-59db-41e1-aa02-acb11a833f84",
   "metadata": {},
   "outputs": [
    {
     "data": {
      "text/plain": [
       "Rain\n",
       "0    1752\n",
       "1     248\n",
       "Name: count, dtype: int64"
      ]
     },
     "execution_count": 14,
     "metadata": {},
     "output_type": "execute_result"
    }
   ],
   "source": [
    "x_train, x_test, y_train, y_test=train_test_split(x,y, test_size=0.2, random_state=12, shuffle=True)\n",
    "\n",
    "\n",
    "y_train.value_counts()"
   ]
  },
  {
   "cell_type": "code",
   "execution_count": 15,
   "id": "f3254101-a671-4c47-99c6-c703d80e8f67",
   "metadata": {},
   "outputs": [
    {
     "data": {
      "text/html": [
       "<style>#sk-container-id-1 {\n",
       "  /* Definition of color scheme common for light and dark mode */\n",
       "  --sklearn-color-text: black;\n",
       "  --sklearn-color-line: gray;\n",
       "  /* Definition of color scheme for unfitted estimators */\n",
       "  --sklearn-color-unfitted-level-0: #fff5e6;\n",
       "  --sklearn-color-unfitted-level-1: #f6e4d2;\n",
       "  --sklearn-color-unfitted-level-2: #ffe0b3;\n",
       "  --sklearn-color-unfitted-level-3: chocolate;\n",
       "  /* Definition of color scheme for fitted estimators */\n",
       "  --sklearn-color-fitted-level-0: #f0f8ff;\n",
       "  --sklearn-color-fitted-level-1: #d4ebff;\n",
       "  --sklearn-color-fitted-level-2: #b3dbfd;\n",
       "  --sklearn-color-fitted-level-3: cornflowerblue;\n",
       "\n",
       "  /* Specific color for light theme */\n",
       "  --sklearn-color-text-on-default-background: var(--sg-text-color, var(--theme-code-foreground, var(--jp-content-font-color1, black)));\n",
       "  --sklearn-color-background: var(--sg-background-color, var(--theme-background, var(--jp-layout-color0, white)));\n",
       "  --sklearn-color-border-box: var(--sg-text-color, var(--theme-code-foreground, var(--jp-content-font-color1, black)));\n",
       "  --sklearn-color-icon: #696969;\n",
       "\n",
       "  @media (prefers-color-scheme: dark) {\n",
       "    /* Redefinition of color scheme for dark theme */\n",
       "    --sklearn-color-text-on-default-background: var(--sg-text-color, var(--theme-code-foreground, var(--jp-content-font-color1, white)));\n",
       "    --sklearn-color-background: var(--sg-background-color, var(--theme-background, var(--jp-layout-color0, #111)));\n",
       "    --sklearn-color-border-box: var(--sg-text-color, var(--theme-code-foreground, var(--jp-content-font-color1, white)));\n",
       "    --sklearn-color-icon: #878787;\n",
       "  }\n",
       "}\n",
       "\n",
       "#sk-container-id-1 {\n",
       "  color: var(--sklearn-color-text);\n",
       "}\n",
       "\n",
       "#sk-container-id-1 pre {\n",
       "  padding: 0;\n",
       "}\n",
       "\n",
       "#sk-container-id-1 input.sk-hidden--visually {\n",
       "  border: 0;\n",
       "  clip: rect(1px 1px 1px 1px);\n",
       "  clip: rect(1px, 1px, 1px, 1px);\n",
       "  height: 1px;\n",
       "  margin: -1px;\n",
       "  overflow: hidden;\n",
       "  padding: 0;\n",
       "  position: absolute;\n",
       "  width: 1px;\n",
       "}\n",
       "\n",
       "#sk-container-id-1 div.sk-dashed-wrapped {\n",
       "  border: 1px dashed var(--sklearn-color-line);\n",
       "  margin: 0 0.4em 0.5em 0.4em;\n",
       "  box-sizing: border-box;\n",
       "  padding-bottom: 0.4em;\n",
       "  background-color: var(--sklearn-color-background);\n",
       "}\n",
       "\n",
       "#sk-container-id-1 div.sk-container {\n",
       "  /* jupyter's `normalize.less` sets `[hidden] { display: none; }`\n",
       "     but bootstrap.min.css set `[hidden] { display: none !important; }`\n",
       "     so we also need the `!important` here to be able to override the\n",
       "     default hidden behavior on the sphinx rendered scikit-learn.org.\n",
       "     See: https://github.com/scikit-learn/scikit-learn/issues/21755 */\n",
       "  display: inline-block !important;\n",
       "  position: relative;\n",
       "}\n",
       "\n",
       "#sk-container-id-1 div.sk-text-repr-fallback {\n",
       "  display: none;\n",
       "}\n",
       "\n",
       "div.sk-parallel-item,\n",
       "div.sk-serial,\n",
       "div.sk-item {\n",
       "  /* draw centered vertical line to link estimators */\n",
       "  background-image: linear-gradient(var(--sklearn-color-text-on-default-background), var(--sklearn-color-text-on-default-background));\n",
       "  background-size: 2px 100%;\n",
       "  background-repeat: no-repeat;\n",
       "  background-position: center center;\n",
       "}\n",
       "\n",
       "/* Parallel-specific style estimator block */\n",
       "\n",
       "#sk-container-id-1 div.sk-parallel-item::after {\n",
       "  content: \"\";\n",
       "  width: 100%;\n",
       "  border-bottom: 2px solid var(--sklearn-color-text-on-default-background);\n",
       "  flex-grow: 1;\n",
       "}\n",
       "\n",
       "#sk-container-id-1 div.sk-parallel {\n",
       "  display: flex;\n",
       "  align-items: stretch;\n",
       "  justify-content: center;\n",
       "  background-color: var(--sklearn-color-background);\n",
       "  position: relative;\n",
       "}\n",
       "\n",
       "#sk-container-id-1 div.sk-parallel-item {\n",
       "  display: flex;\n",
       "  flex-direction: column;\n",
       "}\n",
       "\n",
       "#sk-container-id-1 div.sk-parallel-item:first-child::after {\n",
       "  align-self: flex-end;\n",
       "  width: 50%;\n",
       "}\n",
       "\n",
       "#sk-container-id-1 div.sk-parallel-item:last-child::after {\n",
       "  align-self: flex-start;\n",
       "  width: 50%;\n",
       "}\n",
       "\n",
       "#sk-container-id-1 div.sk-parallel-item:only-child::after {\n",
       "  width: 0;\n",
       "}\n",
       "\n",
       "/* Serial-specific style estimator block */\n",
       "\n",
       "#sk-container-id-1 div.sk-serial {\n",
       "  display: flex;\n",
       "  flex-direction: column;\n",
       "  align-items: center;\n",
       "  background-color: var(--sklearn-color-background);\n",
       "  padding-right: 1em;\n",
       "  padding-left: 1em;\n",
       "}\n",
       "\n",
       "\n",
       "/* Toggleable style: style used for estimator/Pipeline/ColumnTransformer box that is\n",
       "clickable and can be expanded/collapsed.\n",
       "- Pipeline and ColumnTransformer use this feature and define the default style\n",
       "- Estimators will overwrite some part of the style using the `sk-estimator` class\n",
       "*/\n",
       "\n",
       "/* Pipeline and ColumnTransformer style (default) */\n",
       "\n",
       "#sk-container-id-1 div.sk-toggleable {\n",
       "  /* Default theme specific background. It is overwritten whether we have a\n",
       "  specific estimator or a Pipeline/ColumnTransformer */\n",
       "  background-color: var(--sklearn-color-background);\n",
       "}\n",
       "\n",
       "/* Toggleable label */\n",
       "#sk-container-id-1 label.sk-toggleable__label {\n",
       "  cursor: pointer;\n",
       "  display: block;\n",
       "  width: 100%;\n",
       "  margin-bottom: 0;\n",
       "  padding: 0.5em;\n",
       "  box-sizing: border-box;\n",
       "  text-align: center;\n",
       "}\n",
       "\n",
       "#sk-container-id-1 label.sk-toggleable__label-arrow:before {\n",
       "  /* Arrow on the left of the label */\n",
       "  content: \"▸\";\n",
       "  float: left;\n",
       "  margin-right: 0.25em;\n",
       "  color: var(--sklearn-color-icon);\n",
       "}\n",
       "\n",
       "#sk-container-id-1 label.sk-toggleable__label-arrow:hover:before {\n",
       "  color: var(--sklearn-color-text);\n",
       "}\n",
       "\n",
       "/* Toggleable content - dropdown */\n",
       "\n",
       "#sk-container-id-1 div.sk-toggleable__content {\n",
       "  max-height: 0;\n",
       "  max-width: 0;\n",
       "  overflow: hidden;\n",
       "  text-align: left;\n",
       "  /* unfitted */\n",
       "  background-color: var(--sklearn-color-unfitted-level-0);\n",
       "}\n",
       "\n",
       "#sk-container-id-1 div.sk-toggleable__content.fitted {\n",
       "  /* fitted */\n",
       "  background-color: var(--sklearn-color-fitted-level-0);\n",
       "}\n",
       "\n",
       "#sk-container-id-1 div.sk-toggleable__content pre {\n",
       "  margin: 0.2em;\n",
       "  border-radius: 0.25em;\n",
       "  color: var(--sklearn-color-text);\n",
       "  /* unfitted */\n",
       "  background-color: var(--sklearn-color-unfitted-level-0);\n",
       "}\n",
       "\n",
       "#sk-container-id-1 div.sk-toggleable__content.fitted pre {\n",
       "  /* unfitted */\n",
       "  background-color: var(--sklearn-color-fitted-level-0);\n",
       "}\n",
       "\n",
       "#sk-container-id-1 input.sk-toggleable__control:checked~div.sk-toggleable__content {\n",
       "  /* Expand drop-down */\n",
       "  max-height: 200px;\n",
       "  max-width: 100%;\n",
       "  overflow: auto;\n",
       "}\n",
       "\n",
       "#sk-container-id-1 input.sk-toggleable__control:checked~label.sk-toggleable__label-arrow:before {\n",
       "  content: \"▾\";\n",
       "}\n",
       "\n",
       "/* Pipeline/ColumnTransformer-specific style */\n",
       "\n",
       "#sk-container-id-1 div.sk-label input.sk-toggleable__control:checked~label.sk-toggleable__label {\n",
       "  color: var(--sklearn-color-text);\n",
       "  background-color: var(--sklearn-color-unfitted-level-2);\n",
       "}\n",
       "\n",
       "#sk-container-id-1 div.sk-label.fitted input.sk-toggleable__control:checked~label.sk-toggleable__label {\n",
       "  background-color: var(--sklearn-color-fitted-level-2);\n",
       "}\n",
       "\n",
       "/* Estimator-specific style */\n",
       "\n",
       "/* Colorize estimator box */\n",
       "#sk-container-id-1 div.sk-estimator input.sk-toggleable__control:checked~label.sk-toggleable__label {\n",
       "  /* unfitted */\n",
       "  background-color: var(--sklearn-color-unfitted-level-2);\n",
       "}\n",
       "\n",
       "#sk-container-id-1 div.sk-estimator.fitted input.sk-toggleable__control:checked~label.sk-toggleable__label {\n",
       "  /* fitted */\n",
       "  background-color: var(--sklearn-color-fitted-level-2);\n",
       "}\n",
       "\n",
       "#sk-container-id-1 div.sk-label label.sk-toggleable__label,\n",
       "#sk-container-id-1 div.sk-label label {\n",
       "  /* The background is the default theme color */\n",
       "  color: var(--sklearn-color-text-on-default-background);\n",
       "}\n",
       "\n",
       "/* On hover, darken the color of the background */\n",
       "#sk-container-id-1 div.sk-label:hover label.sk-toggleable__label {\n",
       "  color: var(--sklearn-color-text);\n",
       "  background-color: var(--sklearn-color-unfitted-level-2);\n",
       "}\n",
       "\n",
       "/* Label box, darken color on hover, fitted */\n",
       "#sk-container-id-1 div.sk-label.fitted:hover label.sk-toggleable__label.fitted {\n",
       "  color: var(--sklearn-color-text);\n",
       "  background-color: var(--sklearn-color-fitted-level-2);\n",
       "}\n",
       "\n",
       "/* Estimator label */\n",
       "\n",
       "#sk-container-id-1 div.sk-label label {\n",
       "  font-family: monospace;\n",
       "  font-weight: bold;\n",
       "  display: inline-block;\n",
       "  line-height: 1.2em;\n",
       "}\n",
       "\n",
       "#sk-container-id-1 div.sk-label-container {\n",
       "  text-align: center;\n",
       "}\n",
       "\n",
       "/* Estimator-specific */\n",
       "#sk-container-id-1 div.sk-estimator {\n",
       "  font-family: monospace;\n",
       "  border: 1px dotted var(--sklearn-color-border-box);\n",
       "  border-radius: 0.25em;\n",
       "  box-sizing: border-box;\n",
       "  margin-bottom: 0.5em;\n",
       "  /* unfitted */\n",
       "  background-color: var(--sklearn-color-unfitted-level-0);\n",
       "}\n",
       "\n",
       "#sk-container-id-1 div.sk-estimator.fitted {\n",
       "  /* fitted */\n",
       "  background-color: var(--sklearn-color-fitted-level-0);\n",
       "}\n",
       "\n",
       "/* on hover */\n",
       "#sk-container-id-1 div.sk-estimator:hover {\n",
       "  /* unfitted */\n",
       "  background-color: var(--sklearn-color-unfitted-level-2);\n",
       "}\n",
       "\n",
       "#sk-container-id-1 div.sk-estimator.fitted:hover {\n",
       "  /* fitted */\n",
       "  background-color: var(--sklearn-color-fitted-level-2);\n",
       "}\n",
       "\n",
       "/* Specification for estimator info (e.g. \"i\" and \"?\") */\n",
       "\n",
       "/* Common style for \"i\" and \"?\" */\n",
       "\n",
       ".sk-estimator-doc-link,\n",
       "a:link.sk-estimator-doc-link,\n",
       "a:visited.sk-estimator-doc-link {\n",
       "  float: right;\n",
       "  font-size: smaller;\n",
       "  line-height: 1em;\n",
       "  font-family: monospace;\n",
       "  background-color: var(--sklearn-color-background);\n",
       "  border-radius: 1em;\n",
       "  height: 1em;\n",
       "  width: 1em;\n",
       "  text-decoration: none !important;\n",
       "  margin-left: 1ex;\n",
       "  /* unfitted */\n",
       "  border: var(--sklearn-color-unfitted-level-1) 1pt solid;\n",
       "  color: var(--sklearn-color-unfitted-level-1);\n",
       "}\n",
       "\n",
       ".sk-estimator-doc-link.fitted,\n",
       "a:link.sk-estimator-doc-link.fitted,\n",
       "a:visited.sk-estimator-doc-link.fitted {\n",
       "  /* fitted */\n",
       "  border: var(--sklearn-color-fitted-level-1) 1pt solid;\n",
       "  color: var(--sklearn-color-fitted-level-1);\n",
       "}\n",
       "\n",
       "/* On hover */\n",
       "div.sk-estimator:hover .sk-estimator-doc-link:hover,\n",
       ".sk-estimator-doc-link:hover,\n",
       "div.sk-label-container:hover .sk-estimator-doc-link:hover,\n",
       ".sk-estimator-doc-link:hover {\n",
       "  /* unfitted */\n",
       "  background-color: var(--sklearn-color-unfitted-level-3);\n",
       "  color: var(--sklearn-color-background);\n",
       "  text-decoration: none;\n",
       "}\n",
       "\n",
       "div.sk-estimator.fitted:hover .sk-estimator-doc-link.fitted:hover,\n",
       ".sk-estimator-doc-link.fitted:hover,\n",
       "div.sk-label-container:hover .sk-estimator-doc-link.fitted:hover,\n",
       ".sk-estimator-doc-link.fitted:hover {\n",
       "  /* fitted */\n",
       "  background-color: var(--sklearn-color-fitted-level-3);\n",
       "  color: var(--sklearn-color-background);\n",
       "  text-decoration: none;\n",
       "}\n",
       "\n",
       "/* Span, style for the box shown on hovering the info icon */\n",
       ".sk-estimator-doc-link span {\n",
       "  display: none;\n",
       "  z-index: 9999;\n",
       "  position: relative;\n",
       "  font-weight: normal;\n",
       "  right: .2ex;\n",
       "  padding: .5ex;\n",
       "  margin: .5ex;\n",
       "  width: min-content;\n",
       "  min-width: 20ex;\n",
       "  max-width: 50ex;\n",
       "  color: var(--sklearn-color-text);\n",
       "  box-shadow: 2pt 2pt 4pt #999;\n",
       "  /* unfitted */\n",
       "  background: var(--sklearn-color-unfitted-level-0);\n",
       "  border: .5pt solid var(--sklearn-color-unfitted-level-3);\n",
       "}\n",
       "\n",
       ".sk-estimator-doc-link.fitted span {\n",
       "  /* fitted */\n",
       "  background: var(--sklearn-color-fitted-level-0);\n",
       "  border: var(--sklearn-color-fitted-level-3);\n",
       "}\n",
       "\n",
       ".sk-estimator-doc-link:hover span {\n",
       "  display: block;\n",
       "}\n",
       "\n",
       "/* \"?\"-specific style due to the `<a>` HTML tag */\n",
       "\n",
       "#sk-container-id-1 a.estimator_doc_link {\n",
       "  float: right;\n",
       "  font-size: 1rem;\n",
       "  line-height: 1em;\n",
       "  font-family: monospace;\n",
       "  background-color: var(--sklearn-color-background);\n",
       "  border-radius: 1rem;\n",
       "  height: 1rem;\n",
       "  width: 1rem;\n",
       "  text-decoration: none;\n",
       "  /* unfitted */\n",
       "  color: var(--sklearn-color-unfitted-level-1);\n",
       "  border: var(--sklearn-color-unfitted-level-1) 1pt solid;\n",
       "}\n",
       "\n",
       "#sk-container-id-1 a.estimator_doc_link.fitted {\n",
       "  /* fitted */\n",
       "  border: var(--sklearn-color-fitted-level-1) 1pt solid;\n",
       "  color: var(--sklearn-color-fitted-level-1);\n",
       "}\n",
       "\n",
       "/* On hover */\n",
       "#sk-container-id-1 a.estimator_doc_link:hover {\n",
       "  /* unfitted */\n",
       "  background-color: var(--sklearn-color-unfitted-level-3);\n",
       "  color: var(--sklearn-color-background);\n",
       "  text-decoration: none;\n",
       "}\n",
       "\n",
       "#sk-container-id-1 a.estimator_doc_link.fitted:hover {\n",
       "  /* fitted */\n",
       "  background-color: var(--sklearn-color-fitted-level-3);\n",
       "}\n",
       "</style><div id=\"sk-container-id-1\" class=\"sk-top-container\"><div class=\"sk-text-repr-fallback\"><pre>LogisticRegression()</pre><b>In a Jupyter environment, please rerun this cell to show the HTML representation or trust the notebook. <br />On GitHub, the HTML representation is unable to render, please try loading this page with nbviewer.org.</b></div><div class=\"sk-container\" hidden><div class=\"sk-item\"><div class=\"sk-estimator fitted sk-toggleable\"><input class=\"sk-toggleable__control sk-hidden--visually\" id=\"sk-estimator-id-1\" type=\"checkbox\" checked><label for=\"sk-estimator-id-1\" class=\"sk-toggleable__label fitted sk-toggleable__label-arrow fitted\">&nbsp;&nbsp;LogisticRegression<a class=\"sk-estimator-doc-link fitted\" rel=\"noreferrer\" target=\"_blank\" href=\"https://scikit-learn.org/1.5/modules/generated/sklearn.linear_model.LogisticRegression.html\">?<span>Documentation for LogisticRegression</span></a><span class=\"sk-estimator-doc-link fitted\">i<span>Fitted</span></span></label><div class=\"sk-toggleable__content fitted\"><pre>LogisticRegression()</pre></div> </div></div></div></div>"
      ],
      "text/plain": [
       "LogisticRegression()"
      ]
     },
     "execution_count": 15,
     "metadata": {},
     "output_type": "execute_result"
    }
   ],
   "source": [
    "logistic_clf_model=LogisticRegression()\n",
    "logistic_clf_model.fit(x_train, y_train)"
   ]
  },
  {
   "cell_type": "markdown",
   "id": "612ec785-78d3-462b-b9f8-7493a23302c3",
   "metadata": {},
   "source": [
    "### Model Evaluations"
   ]
  },
  {
   "cell_type": "code",
   "execution_count": 16,
   "id": "47f7809c-cf3f-4ab0-8e98-d0d51cb74922",
   "metadata": {},
   "outputs": [
    {
     "name": "stdout",
     "output_type": "stream",
     "text": [
      "Confusion Matrix:\n",
      " [[1702   50]\n",
      " [  88  160]]\n",
      "****************************************\n",
      "Accuracy : 0.931\n",
      "****************************************\n",
      "classification report:\n",
      "               precision    recall  f1-score   support\n",
      "\n",
      "           0       0.95      0.97      0.96      1752\n",
      "           1       0.76      0.65      0.70       248\n",
      "\n",
      "    accuracy                           0.93      2000\n",
      "   macro avg       0.86      0.81      0.83      2000\n",
      "weighted avg       0.93      0.93      0.93      2000\n",
      "\n"
     ]
    }
   ],
   "source": [
    "#Trainin Data\n",
    "y_pred_train=logistic_clf_model.predict(x_train)\n",
    "\n",
    "cnf_matrix = confusion_matrix(y_train, y_pred_train)\n",
    "print(\"Confusion Matrix:\\n\",cnf_matrix)\n",
    "print(\"*\"*40)\n",
    "accuracy = accuracy_score(y_train, y_pred_train)\n",
    "print(\"Accuracy :\",accuracy)\n",
    "print(\"*\"*40)\n",
    "clf_report = classification_report(y_train, y_pred_train)\n",
    "print(\"classification report:\\n\",clf_report)"
   ]
  },
  {
   "cell_type": "markdown",
   "id": "9b8ba398-3856-4379-b968-4f9368fa83a5",
   "metadata": {},
   "source": [
    "### Testing Data Evalutions"
   ]
  },
  {
   "cell_type": "code",
   "execution_count": 17,
   "id": "51656f24-1c5b-45f9-8da9-b62225315216",
   "metadata": {},
   "outputs": [
    {
     "name": "stdout",
     "output_type": "stream",
     "text": [
      "Confusion Matrix:\n",
      " [[1702   50]\n",
      " [  88  160]]\n",
      "****************************************\n",
      "Accuracy : 0.931\n",
      "****************************************\n",
      "classification report:\n",
      "               precision    recall  f1-score   support\n",
      "\n",
      "           0       0.95      0.97      0.96      1752\n",
      "           1       0.76      0.65      0.70       248\n",
      "\n",
      "    accuracy                           0.93      2000\n",
      "   macro avg       0.86      0.81      0.83      2000\n",
      "weighted avg       0.93      0.93      0.93      2000\n",
      "\n"
     ]
    }
   ],
   "source": [
    "y_pred_test=logistic_clf_model.predict(x_test)\n",
    "\n",
    "cnf_matrix = confusion_matrix(y_train, y_pred_train)\n",
    "print(\"Confusion Matrix:\\n\",cnf_matrix)\n",
    "print(\"*\"*40)\n",
    "accuracy = accuracy_score(y_train, y_pred_train)\n",
    "print(\"Accuracy :\",accuracy)\n",
    "print(\"*\"*40)\n",
    "clf_report = classification_report(y_train, y_pred_train)\n",
    "print(\"classification report:\\n\",clf_report)"
   ]
  },
  {
   "cell_type": "code",
   "execution_count": 18,
   "id": "b378ba65-c773-48ca-b926-de5ea6e2eec1",
   "metadata": {},
   "outputs": [
    {
     "data": {
      "text/plain": [
       "array([0, 0, 0, 0, 0, 1, 0, 0, 0, 0, 1, 0, 0, 0, 0, 0, 0, 0, 1, 0, 0, 0,\n",
       "       0, 0, 0, 0, 1, 0, 0, 0, 0, 0, 0, 0, 1, 0, 0, 0, 0, 0, 0, 0, 0, 0,\n",
       "       0, 0, 0, 0, 0, 0, 0, 1, 1, 0, 0, 1, 0, 0, 1, 0, 0, 0, 0, 0, 0, 0,\n",
       "       0, 1, 0, 0, 0, 0, 0, 1, 0, 0, 0, 0, 0, 0, 0, 0, 0, 0, 0, 0, 0, 0,\n",
       "       0, 0, 1, 0, 0, 0, 0, 0, 1, 1, 0, 0, 0, 0, 0, 0, 0, 1, 0, 0, 0, 0,\n",
       "       0, 0, 0, 0, 0, 0, 0, 0, 0, 0, 0, 0, 0, 0, 0, 0, 0, 0, 1, 0, 0, 0,\n",
       "       0, 1, 0, 0, 0, 0, 0, 0, 0, 0, 0, 0, 0, 0, 0, 0, 0, 0, 0, 0, 0, 0,\n",
       "       0, 0, 0, 0, 0, 0, 0, 0, 0, 0, 0, 1, 0, 0, 0, 0, 0, 0, 0, 1, 0, 1,\n",
       "       0, 0, 0, 0, 0, 1, 0, 0, 0, 0, 0, 1, 0, 0, 0, 0, 1, 0, 1, 1, 0, 0,\n",
       "       0, 0, 0, 0, 0, 0, 0, 0, 0, 0, 0, 0, 1, 0, 0, 0, 0, 0, 0, 0, 0, 0,\n",
       "       0, 0, 0, 1, 0, 0, 0, 0, 0, 1, 0, 1, 0, 0, 0, 0, 0, 0, 0, 0, 0, 0,\n",
       "       0, 0, 0, 0, 0, 0, 0, 0, 0, 0, 0, 0, 0, 0, 0, 0, 0, 0, 0, 0, 0, 0,\n",
       "       0, 0, 0, 0, 1, 0, 0, 1, 0, 0, 0, 0, 0, 0, 0, 0, 0, 0, 0, 1, 0, 0,\n",
       "       0, 0, 0, 0, 0, 1, 0, 0, 0, 0, 1, 0, 0, 0, 0, 0, 0, 0, 0, 0, 0, 0,\n",
       "       0, 0, 0, 0, 1, 0, 0, 0, 0, 0, 0, 0, 0, 0, 0, 0, 1, 0, 0, 0, 0, 0,\n",
       "       0, 0, 0, 0, 0, 1, 0, 0, 0, 0, 1, 0, 0, 1, 0, 0, 0, 0, 0, 0, 0, 0,\n",
       "       0, 0, 1, 0, 0, 1, 0, 0, 0, 0, 0, 0, 0, 0, 0, 0, 0, 0, 1, 1, 0, 0,\n",
       "       0, 0, 0, 0, 0, 1, 1, 0, 1, 1, 1, 0, 0, 0, 0, 0, 0, 0, 0, 1, 0, 0,\n",
       "       0, 0, 1, 0, 0, 0, 0, 0, 0, 0, 0, 0, 0, 1, 0, 0, 0, 0, 0, 0, 1, 0,\n",
       "       0, 0, 0, 0, 0, 0, 0, 0, 0, 0, 0, 1, 0, 0, 0, 0, 0, 0, 0, 0, 0, 0,\n",
       "       0, 0, 0, 0, 0, 0, 0, 0, 1, 0, 0, 0, 0, 0, 0, 0, 0, 0, 1, 0, 0, 0,\n",
       "       0, 0, 0, 0, 0, 0, 0, 0, 0, 0, 1, 0, 0, 0, 0, 0, 0, 0, 0, 0, 0, 0,\n",
       "       0, 0, 0, 0, 0, 0, 0, 0, 0, 0, 0, 0, 0, 0, 0, 0])"
      ]
     },
     "execution_count": 18,
     "metadata": {},
     "output_type": "execute_result"
    }
   ],
   "source": [
    "y_pred_test_prob=logistic_clf_model.predict(x_test)\n",
    "y_pred_test_prob"
   ]
  },
  {
   "cell_type": "code",
   "execution_count": 19,
   "id": "e69b47ec-3acc-4d34-8b0c-96fd5ca74413",
   "metadata": {},
   "outputs": [
    {
     "data": {
      "text/plain": [
       "1959    0\n",
       "1533    0\n",
       "1161    0\n",
       "780     0\n",
       "145     0\n",
       "       ..\n",
       "2343    0\n",
       "1230    0\n",
       "775     0\n",
       "838     0\n",
       "1308    0\n",
       "Name: Rain, Length: 500, dtype: int64"
      ]
     },
     "execution_count": 19,
     "metadata": {},
     "output_type": "execute_result"
    }
   ],
   "source": [
    "y_test"
   ]
  },
  {
   "cell_type": "code",
   "execution_count": 20,
   "id": "eb7c14b0-c4fc-4408-ba16-59d1a64fb4f6",
   "metadata": {},
   "outputs": [
    {
     "data": {
      "text/html": [
       "<div>\n",
       "<style scoped>\n",
       "    .dataframe tbody tr th:only-of-type {\n",
       "        vertical-align: middle;\n",
       "    }\n",
       "\n",
       "    .dataframe tbody tr th {\n",
       "        vertical-align: top;\n",
       "    }\n",
       "\n",
       "    .dataframe thead th {\n",
       "        text-align: right;\n",
       "    }\n",
       "</style>\n",
       "<table border=\"1\" class=\"dataframe\">\n",
       "  <thead>\n",
       "    <tr style=\"text-align: right;\">\n",
       "      <th></th>\n",
       "      <th>Temperature</th>\n",
       "      <th>Humidity</th>\n",
       "      <th>Wind_Speed</th>\n",
       "      <th>Cloud_Cover</th>\n",
       "      <th>Pressure</th>\n",
       "      <th>Rain</th>\n",
       "    </tr>\n",
       "  </thead>\n",
       "  <tbody>\n",
       "    <tr>\n",
       "      <th>Temperature</th>\n",
       "      <td>53.684875</td>\n",
       "      <td>-2.064280</td>\n",
       "      <td>-0.209927</td>\n",
       "      <td>1.415202</td>\n",
       "      <td>-1.108155</td>\n",
       "      <td>-0.645730</td>\n",
       "    </tr>\n",
       "    <tr>\n",
       "      <th>Humidity</th>\n",
       "      <td>-2.064280</td>\n",
       "      <td>398.191615</td>\n",
       "      <td>0.440186</td>\n",
       "      <td>4.209518</td>\n",
       "      <td>-12.932168</td>\n",
       "      <td>2.529727</td>\n",
       "    </tr>\n",
       "    <tr>\n",
       "      <th>Wind_Speed</th>\n",
       "      <td>-0.209927</td>\n",
       "      <td>0.440186</td>\n",
       "      <td>33.412053</td>\n",
       "      <td>-0.068111</td>\n",
       "      <td>2.191420</td>\n",
       "      <td>-0.002661</td>\n",
       "    </tr>\n",
       "    <tr>\n",
       "      <th>Cloud_Cover</th>\n",
       "      <td>1.415202</td>\n",
       "      <td>4.209518</td>\n",
       "      <td>-0.068111</td>\n",
       "      <td>848.155167</td>\n",
       "      <td>13.587282</td>\n",
       "      <td>3.149049</td>\n",
       "    </tr>\n",
       "    <tr>\n",
       "      <th>Pressure</th>\n",
       "      <td>-1.108155</td>\n",
       "      <td>-12.932168</td>\n",
       "      <td>2.191420</td>\n",
       "      <td>13.587282</td>\n",
       "      <td>407.895897</td>\n",
       "      <td>0.055384</td>\n",
       "    </tr>\n",
       "    <tr>\n",
       "      <th>Rain</th>\n",
       "      <td>-0.645730</td>\n",
       "      <td>2.529727</td>\n",
       "      <td>-0.002661</td>\n",
       "      <td>3.149049</td>\n",
       "      <td>0.055384</td>\n",
       "      <td>0.109869</td>\n",
       "    </tr>\n",
       "  </tbody>\n",
       "</table>\n",
       "</div>"
      ],
      "text/plain": [
       "             Temperature    Humidity  Wind_Speed  Cloud_Cover    Pressure  \\\n",
       "Temperature    53.684875   -2.064280   -0.209927     1.415202   -1.108155   \n",
       "Humidity       -2.064280  398.191615    0.440186     4.209518  -12.932168   \n",
       "Wind_Speed     -0.209927    0.440186   33.412053    -0.068111    2.191420   \n",
       "Cloud_Cover     1.415202    4.209518   -0.068111   848.155167   13.587282   \n",
       "Pressure       -1.108155  -12.932168    2.191420    13.587282  407.895897   \n",
       "Rain           -0.645730    2.529727   -0.002661     3.149049    0.055384   \n",
       "\n",
       "                 Rain  \n",
       "Temperature -0.645730  \n",
       "Humidity     2.529727  \n",
       "Wind_Speed  -0.002661  \n",
       "Cloud_Cover  3.149049  \n",
       "Pressure     0.055384  \n",
       "Rain         0.109869  "
      ]
     },
     "execution_count": 20,
     "metadata": {},
     "output_type": "execute_result"
    }
   ],
   "source": [
    "df.cov()"
   ]
  },
  {
   "cell_type": "code",
   "execution_count": 21,
   "id": "220575d0-0598-4910-9d09-7c066e3050c2",
   "metadata": {},
   "outputs": [
    {
     "data": {
      "text/plain": [
       "np.int64(0)"
      ]
     },
     "execution_count": 21,
     "metadata": {},
     "output_type": "execute_result"
    }
   ],
   "source": [
    "y_pred_temp=np.where(y_pred_test  >=0.7, 1,0)\n",
    "y_pred_temp[44]"
   ]
  },
  {
   "cell_type": "code",
   "execution_count": 22,
   "id": "80f064a0-bce4-4249-8241-1e8292002b16",
   "metadata": {},
   "outputs": [
    {
     "data": {
      "text/plain": [
       "array([5.54101670e-05, 1.41660441e-05, 7.14008573e-01, ...,\n",
       "       1.40932448e-02, 1.16295347e-01, 5.51863802e-02])"
      ]
     },
     "execution_count": 22,
     "metadata": {},
     "output_type": "execute_result"
    }
   ],
   "source": [
    "y_pred_train_prob=logistic_clf_model.predict_proba(x_train)[:,1]\n",
    "y_pred_train_prob"
   ]
  },
  {
   "cell_type": "code",
   "execution_count": 23,
   "id": "ed0f0581-1bcc-4e88-907b-23a93df23af9",
   "metadata": {},
   "outputs": [
    {
     "data": {
      "text/plain": [
       "array([           inf, 9.97895929e-01, 9.02045562e-01, 9.01804344e-01,\n",
       "       8.79876550e-01, 8.79823291e-01, 8.70706670e-01, 8.67876927e-01,\n",
       "       8.57351515e-01, 8.56775063e-01, 8.55200295e-01, 8.55092156e-01,\n",
       "       8.02088554e-01, 8.01852549e-01, 7.97981646e-01, 7.97867904e-01,\n",
       "       7.95885409e-01, 7.95118766e-01, 7.87540578e-01, 7.84670585e-01,\n",
       "       7.65666174e-01, 7.62852121e-01, 7.56431749e-01, 7.49802362e-01,\n",
       "       7.38645347e-01, 7.32615126e-01, 7.30952629e-01, 7.30291528e-01,\n",
       "       7.23982817e-01, 7.14008573e-01, 7.09486676e-01, 7.05780001e-01,\n",
       "       6.98920539e-01, 6.98134946e-01, 6.94121917e-01, 6.70931449e-01,\n",
       "       6.69612305e-01, 6.64923930e-01, 6.64558116e-01, 6.64104778e-01,\n",
       "       6.62586639e-01, 6.57736100e-01, 6.42950338e-01, 6.42796928e-01,\n",
       "       6.37198766e-01, 6.35485326e-01, 6.26672296e-01, 6.25329136e-01,\n",
       "       6.23632971e-01, 6.22245810e-01, 6.20536905e-01, 6.19057355e-01,\n",
       "       6.14727868e-01, 5.94151348e-01, 5.92436805e-01, 5.91534478e-01,\n",
       "       5.85372197e-01, 5.79811266e-01, 5.69470442e-01, 5.62091811e-01,\n",
       "       5.55256903e-01, 5.43023424e-01, 5.42777835e-01, 5.32844363e-01,\n",
       "       5.32615019e-01, 5.31400845e-01, 5.25140046e-01, 5.24941108e-01,\n",
       "       5.06225601e-01, 5.03115899e-01, 5.02408654e-01, 4.80866189e-01,\n",
       "       4.76436460e-01, 4.70001715e-01, 4.62236110e-01, 4.61102570e-01,\n",
       "       4.53372006e-01, 4.49160435e-01, 4.49033480e-01, 4.46589493e-01,\n",
       "       4.45448152e-01, 4.42834627e-01, 4.38379186e-01, 4.30002004e-01,\n",
       "       4.29405425e-01, 4.07223527e-01, 4.05453683e-01, 4.05337954e-01,\n",
       "       4.03740498e-01, 4.03328375e-01, 4.02309646e-01, 4.00055824e-01,\n",
       "       3.91722826e-01, 3.81798505e-01, 3.80419252e-01, 3.75150316e-01,\n",
       "       3.71902913e-01, 3.71327621e-01, 3.70020478e-01, 3.66665564e-01,\n",
       "       3.62098251e-01, 3.58939869e-01, 3.52070557e-01, 3.48454299e-01,\n",
       "       3.45718670e-01, 3.39543079e-01, 3.33173316e-01, 3.20329398e-01,\n",
       "       3.19510797e-01, 3.11765874e-01, 3.10129306e-01, 3.04551082e-01,\n",
       "       3.00848624e-01, 2.92766411e-01, 2.91198273e-01, 2.90435425e-01,\n",
       "       2.89391033e-01, 2.87315721e-01, 2.86818901e-01, 2.86782640e-01,\n",
       "       2.86151302e-01, 2.80959439e-01, 2.80951799e-01, 2.79524407e-01,\n",
       "       2.75844312e-01, 2.72486689e-01, 2.72213380e-01, 2.66794895e-01,\n",
       "       2.66410176e-01, 2.60111549e-01, 2.55030649e-01, 2.47297935e-01,\n",
       "       2.41156387e-01, 2.39813122e-01, 2.38300188e-01, 2.29382273e-01,\n",
       "       2.27539688e-01, 2.24862357e-01, 2.22865471e-01, 2.14541607e-01,\n",
       "       2.13705559e-01, 1.99019205e-01, 1.98053337e-01, 1.97109117e-01,\n",
       "       1.95707035e-01, 1.87432442e-01, 1.87071846e-01, 1.85828233e-01,\n",
       "       1.84988646e-01, 1.73305050e-01, 1.72691829e-01, 1.65939040e-01,\n",
       "       1.65362474e-01, 1.59667643e-01, 1.58253109e-01, 1.56807401e-01,\n",
       "       1.55867037e-01, 1.52051642e-01, 1.51885806e-01, 1.51435975e-01,\n",
       "       1.50892881e-01, 1.45878293e-01, 1.44932276e-01, 1.41492405e-01,\n",
       "       1.41185782e-01, 1.38258480e-01, 1.37818466e-01, 1.33519776e-01,\n",
       "       1.33429167e-01, 1.32577467e-01, 1.31503865e-01, 1.30395905e-01,\n",
       "       1.29481035e-01, 1.24776519e-01, 1.23923236e-01, 1.19727436e-01,\n",
       "       1.19303515e-01, 1.11196233e-01, 1.11190540e-01, 1.05105759e-01,\n",
       "       1.04802469e-01, 1.01733083e-01, 1.01311387e-01, 9.59364130e-02,\n",
       "       9.57921335e-02, 6.31666916e-02, 6.15029207e-02, 6.06823397e-02,\n",
       "       6.05549113e-02, 4.14445234e-02, 4.14135791e-02, 3.66763647e-02,\n",
       "       3.65075908e-02, 2.82710295e-02, 2.82677146e-02, 2.73551035e-02,\n",
       "       2.69472999e-02, 2.36066039e-02, 2.35870049e-02, 2.32865357e-02,\n",
       "       2.32377890e-02, 2.12597922e-02, 2.09828431e-02, 1.16087243e-02,\n",
       "       1.14893927e-02, 1.33724877e-07])"
      ]
     },
     "execution_count": 23,
     "metadata": {},
     "output_type": "execute_result"
    }
   ],
   "source": [
    "fpr, tpr, threshold= roc_curve(y_train, y_pred_train_prob)\n",
    "threshold"
   ]
  },
  {
   "cell_type": "code",
   "execution_count": 24,
   "id": "95488213-52a0-4915-99ce-ae25224618a7",
   "metadata": {},
   "outputs": [
    {
     "data": {
      "text/plain": [
       "array([0.00000000e+00, 0.00000000e+00, 0.00000000e+00, 5.70776256e-04,\n",
       "       5.70776256e-04, 1.14155251e-03, 1.14155251e-03, 1.71232877e-03,\n",
       "       1.71232877e-03, 2.28310502e-03, 2.28310502e-03, 2.85388128e-03,\n",
       "       2.85388128e-03, 3.42465753e-03, 3.42465753e-03, 3.99543379e-03,\n",
       "       3.99543379e-03, 4.56621005e-03, 4.56621005e-03, 5.13698630e-03,\n",
       "       5.13698630e-03, 5.70776256e-03, 5.70776256e-03, 6.84931507e-03,\n",
       "       6.84931507e-03, 7.99086758e-03, 7.99086758e-03, 8.56164384e-03,\n",
       "       8.56164384e-03, 9.13242009e-03, 9.13242009e-03, 1.02739726e-02,\n",
       "       1.02739726e-02, 1.08447489e-02, 1.08447489e-02, 1.42694064e-02,\n",
       "       1.42694064e-02, 1.59817352e-02, 1.59817352e-02, 1.65525114e-02,\n",
       "       1.65525114e-02, 1.71232877e-02, 1.71232877e-02, 1.76940639e-02,\n",
       "       1.76940639e-02, 1.82648402e-02, 1.82648402e-02, 1.88356164e-02,\n",
       "       1.88356164e-02, 1.94063927e-02, 1.94063927e-02, 1.99771689e-02,\n",
       "       1.99771689e-02, 2.28310502e-02, 2.28310502e-02, 2.34018265e-02,\n",
       "       2.34018265e-02, 2.45433790e-02, 2.45433790e-02, 2.56849315e-02,\n",
       "       2.56849315e-02, 2.62557078e-02, 2.62557078e-02, 2.68264840e-02,\n",
       "       2.68264840e-02, 2.73972603e-02, 2.73972603e-02, 2.79680365e-02,\n",
       "       2.79680365e-02, 2.85388128e-02, 2.85388128e-02, 3.19634703e-02,\n",
       "       3.19634703e-02, 3.31050228e-02, 3.31050228e-02, 3.36757991e-02,\n",
       "       3.36757991e-02, 3.42465753e-02, 3.42465753e-02, 3.48173516e-02,\n",
       "       3.48173516e-02, 3.53881279e-02, 3.53881279e-02, 3.65296804e-02,\n",
       "       3.65296804e-02, 4.10958904e-02, 4.10958904e-02, 4.16666667e-02,\n",
       "       4.16666667e-02, 4.22374429e-02, 4.22374429e-02, 4.28082192e-02,\n",
       "       4.28082192e-02, 4.39497717e-02, 4.39497717e-02, 4.56621005e-02,\n",
       "       4.56621005e-02, 4.62328767e-02, 4.62328767e-02, 4.73744292e-02,\n",
       "       4.73744292e-02, 4.85159817e-02, 4.85159817e-02, 4.90867580e-02,\n",
       "       4.90867580e-02, 5.07990868e-02, 5.07990868e-02, 5.30821918e-02,\n",
       "       5.30821918e-02, 5.53652968e-02, 5.53652968e-02, 5.70776256e-02,\n",
       "       5.70776256e-02, 6.10730594e-02, 6.10730594e-02, 6.16438356e-02,\n",
       "       6.16438356e-02, 6.22146119e-02, 6.22146119e-02, 6.27853881e-02,\n",
       "       6.27853881e-02, 6.33561644e-02, 6.33561644e-02, 6.39269406e-02,\n",
       "       6.39269406e-02, 6.44977169e-02, 6.44977169e-02, 6.67808219e-02,\n",
       "       6.67808219e-02, 6.79223744e-02, 6.79223744e-02, 7.19178082e-02,\n",
       "       7.19178082e-02, 7.30593607e-02, 7.30593607e-02, 7.81963470e-02,\n",
       "       7.81963470e-02, 7.99086758e-02, 7.99086758e-02, 8.44748858e-02,\n",
       "       8.44748858e-02, 8.84703196e-02, 8.84703196e-02, 8.90410959e-02,\n",
       "       8.90410959e-02, 9.18949772e-02, 9.18949772e-02, 9.24657534e-02,\n",
       "       9.24657534e-02, 9.47488584e-02, 9.47488584e-02, 9.70319635e-02,\n",
       "       9.70319635e-02, 9.81735160e-02, 9.81735160e-02, 9.87442922e-02,\n",
       "       9.87442922e-02, 1.01027397e-01, 1.01027397e-01, 1.01598174e-01,\n",
       "       1.01598174e-01, 1.05022831e-01, 1.05022831e-01, 1.07876712e-01,\n",
       "       1.07876712e-01, 1.10159817e-01, 1.10159817e-01, 1.11301370e-01,\n",
       "       1.11301370e-01, 1.11872146e-01, 1.11872146e-01, 1.12442922e-01,\n",
       "       1.12442922e-01, 1.14726027e-01, 1.14726027e-01, 1.21004566e-01,\n",
       "       1.21004566e-01, 1.27853881e-01, 1.27853881e-01, 1.30707763e-01,\n",
       "       1.30707763e-01, 1.33561644e-01, 1.33561644e-01, 1.37557078e-01,\n",
       "       1.37557078e-01, 1.68378995e-01, 1.68378995e-01, 1.70091324e-01,\n",
       "       1.70091324e-01, 2.07191781e-01, 2.07191781e-01, 2.16894977e-01,\n",
       "       2.16894977e-01, 2.47716895e-01, 2.47716895e-01, 2.52283105e-01,\n",
       "       2.52283105e-01, 2.68264840e-01, 2.68264840e-01, 2.70547945e-01,\n",
       "       2.70547945e-01, 2.80821918e-01, 2.80821918e-01, 3.40753425e-01,\n",
       "       3.40753425e-01, 1.00000000e+00])"
      ]
     },
     "execution_count": 24,
     "metadata": {},
     "output_type": "execute_result"
    }
   ],
   "source": [
    "fpr"
   ]
  },
  {
   "cell_type": "code",
   "execution_count": 25,
   "id": "047dd937-a880-4893-a8b6-2d92c773afd3",
   "metadata": {},
   "outputs": [
    {
     "data": {
      "text/plain": [
       "array([0.        , 0.00403226, 0.22580645, 0.22580645, 0.28629032,\n",
       "       0.28629032, 0.2983871 , 0.2983871 , 0.32258065, 0.32258065,\n",
       "       0.3266129 , 0.3266129 , 0.39919355, 0.39919355, 0.40725806,\n",
       "       0.40725806, 0.41532258, 0.41532258, 0.43145161, 0.43145161,\n",
       "       0.44758065, 0.44758065, 0.45967742, 0.45967742, 0.48387097,\n",
       "       0.48387097, 0.49193548, 0.49193548, 0.5       , 0.5       ,\n",
       "       0.50806452, 0.50806452, 0.52016129, 0.52016129, 0.52419355,\n",
       "       0.52419355, 0.52822581, 0.52822581, 0.53225806, 0.53225806,\n",
       "       0.54032258, 0.54032258, 0.56451613, 0.56451613, 0.56854839,\n",
       "       0.56854839, 0.5766129 , 0.5766129 , 0.58467742, 0.58467742,\n",
       "       0.58870968, 0.58870968, 0.59274194, 0.59274194, 0.59677419,\n",
       "       0.59677419, 0.60483871, 0.60483871, 0.61290323, 0.61290323,\n",
       "       0.62096774, 0.62096774, 0.625     , 0.625     , 0.63306452,\n",
       "       0.63306452, 0.63709677, 0.63709677, 0.64112903, 0.64112903,\n",
       "       0.64516129, 0.64516129, 0.64919355, 0.64919355, 0.66129032,\n",
       "       0.66129032, 0.66935484, 0.66935484, 0.6733871 , 0.6733871 ,\n",
       "       0.67741935, 0.67741935, 0.68548387, 0.68548387, 0.69354839,\n",
       "       0.69354839, 0.69758065, 0.69758065, 0.7016129 , 0.7016129 ,\n",
       "       0.70564516, 0.70564516, 0.72177419, 0.72177419, 0.72580645,\n",
       "       0.72580645, 0.73387097, 0.73387097, 0.73790323, 0.73790323,\n",
       "       0.74596774, 0.74596774, 0.75403226, 0.75403226, 0.75806452,\n",
       "       0.75806452, 0.77419355, 0.77419355, 0.77822581, 0.77822581,\n",
       "       0.78225806, 0.78225806, 0.79032258, 0.79032258, 0.79435484,\n",
       "       0.79435484, 0.7983871 , 0.7983871 , 0.80241935, 0.80241935,\n",
       "       0.81048387, 0.81048387, 0.81451613, 0.81451613, 0.82258065,\n",
       "       0.82258065, 0.8266129 , 0.8266129 , 0.83064516, 0.83064516,\n",
       "       0.83467742, 0.83467742, 0.83870968, 0.83870968, 0.84274194,\n",
       "       0.84274194, 0.85080645, 0.85080645, 0.85887097, 0.85887097,\n",
       "       0.86290323, 0.86290323, 0.86693548, 0.86693548, 0.87096774,\n",
       "       0.87096774, 0.875     , 0.875     , 0.87903226, 0.87903226,\n",
       "       0.88306452, 0.88306452, 0.88709677, 0.88709677, 0.89112903,\n",
       "       0.89112903, 0.89516129, 0.89516129, 0.89919355, 0.89919355,\n",
       "       0.90322581, 0.90322581, 0.90725806, 0.90725806, 0.91129032,\n",
       "       0.91129032, 0.91532258, 0.91532258, 0.91935484, 0.91935484,\n",
       "       0.9233871 , 0.9233871 , 0.92741935, 0.92741935, 0.93145161,\n",
       "       0.93145161, 0.93548387, 0.93548387, 0.93951613, 0.93951613,\n",
       "       0.94354839, 0.94354839, 0.94758065, 0.94758065, 0.9516129 ,\n",
       "       0.9516129 , 0.95967742, 0.95967742, 0.96370968, 0.96370968,\n",
       "       0.96774194, 0.96774194, 0.97177419, 0.97177419, 0.97580645,\n",
       "       0.97580645, 0.97983871, 0.97983871, 0.98387097, 0.98387097,\n",
       "       0.99193548, 0.99193548, 0.99596774, 0.99596774, 1.        ,\n",
       "       1.        ])"
      ]
     },
     "execution_count": 25,
     "metadata": {},
     "output_type": "execute_result"
    }
   ],
   "source": [
    "tpr"
   ]
  },
  {
   "cell_type": "code",
   "execution_count": 26,
   "id": "07c031a8-9ad2-43fb-89ff-7d92a894ea60",
   "metadata": {},
   "outputs": [
    {
     "data": {
      "text/plain": [
       "<function matplotlib.pyplot.show(close=None, block=None)>"
      ]
     },
     "execution_count": 26,
     "metadata": {},
     "output_type": "execute_result"
    },
    {
     "data": {
      "image/png": "[encoded data removed]",
      "text/plain": [
       "<Figure size 640x480 with 1 Axes>"
      ]
     },
     "metadata": {},
     "output_type": "display_data"
    }
   ],
   "source": [
    "plt.plot(fpr, tpr)\n",
    "plt.xlabel(\"False positive Rate\")\n",
    "plt.ylabel(\"True positive Rate\")\n",
    "plt.title(\"Roc Curve\")\n",
    "plt.show"
   ]
  }
 ],
 "metadata": {
  "kernelspec": {
   "display_name": "Python 3 (ipykernel)",
   "language": "python",
   "name": "python3"
  },
  "language_info": {
   "codemirror_mode": {
    "name": "ipython",
    "version": 3
   },
   "file_extension": ".py",
   "mimetype": "text/x-python",
   "name": "python",
   "nbconvert_exporter": "python",
   "pygments_lexer": "ipython3",
   "version": "3.12.4"
  }
 },
 "nbformat": 4,
 "nbformat_minor": 5
}
